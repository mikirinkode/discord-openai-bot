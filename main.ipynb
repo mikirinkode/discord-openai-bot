{
 "cells": [
  {
   "cell_type": "code",
   "execution_count": 13,
   "metadata": {},
   "outputs": [
    {
     "name": "stdout",
     "output_type": "stream",
     "text": [
      "Collecting openai\n",
      "  Using cached openai-1.3.8-py3-none-any.whl (221 kB)\n",
      "Collecting pydantic<3,>=1.9.0\n",
      "  Using cached pydantic-2.5.2-py3-none-any.whl (381 kB)\n",
      "Collecting typing-extensions<5,>=4.5\n",
      "  Using cached typing_extensions-4.9.0-py3-none-any.whl (32 kB)\n",
      "Requirement already satisfied, skipping upgrade: httpx<1,>=0.23.0 in c:\\users\\lenovo\\anaconda3\\lib\\site-packages (from openai) (0.23.0)\n",
      "Collecting distro<2,>=1.7.0\n",
      "  Using cached distro-1.8.0-py3-none-any.whl (20 kB)\n",
      "Requirement already satisfied, skipping upgrade: tqdm>4 in c:\\users\\lenovo\\anaconda3\\lib\\site-packages (from openai) (4.47.0)\n",
      "Requirement already satisfied, skipping upgrade: sniffio in c:\\users\\lenovo\\anaconda3\\lib\\site-packages (from openai) (1.2.0)\n",
      "Requirement already satisfied, skipping upgrade: anyio<5,>=3.5.0 in c:\\users\\lenovo\\anaconda3\\lib\\site-packages (from openai) (3.5.0)\n",
      "Collecting annotated-types>=0.4.0\n",
      "  Using cached annotated_types-0.6.0-py3-none-any.whl (12 kB)\n",
      "Collecting pydantic-core==2.14.5\n",
      "  Downloading pydantic_core-2.14.5-cp38-none-win_amd64.whl (1.9 MB)\n",
      "Requirement already satisfied, skipping upgrade: rfc3986[idna2008]<2,>=1.3 in c:\\users\\lenovo\\anaconda3\\lib\\site-packages (from httpx<1,>=0.23.0->openai) (1.4.0)\n",
      "Requirement already satisfied, skipping upgrade: certifi in c:\\users\\lenovo\\anaconda3\\lib\\site-packages (from httpx<1,>=0.23.0->openai) (2022.9.24)\n",
      "Requirement already satisfied, skipping upgrade: httpcore<0.16.0,>=0.15.0 in c:\\users\\lenovo\\anaconda3\\lib\\site-packages (from httpx<1,>=0.23.0->openai) (0.15.0)\n",
      "Requirement already satisfied, skipping upgrade: idna>=2.8 in c:\\users\\lenovo\\anaconda3\\lib\\site-packages (from anyio<5,>=3.5.0->openai) (2.10)\n",
      "Requirement already satisfied, skipping upgrade: h11<0.13,>=0.11 in c:\\users\\lenovo\\anaconda3\\lib\\site-packages (from httpcore<0.16.0,>=0.15.0->httpx<1,>=0.23.0->openai) (0.12.0)\n",
      "Installing collected packages: typing-extensions, annotated-types, pydantic-core, pydantic, distro, openai\n",
      "  Attempting uninstall: typing-extensions\n",
      "    Found existing installation: typing-extensions 3.7.4.2Note: you may need to restart the kernel to use updated packages.\n",
      "\n",
      "    Uninstalling typing-extensions-3.7.4.2:\n",
      "      Successfully uninstalled typing-extensions-3.7.4.2\n",
      "Successfully installed annotated-types-0.6.0 distro-1.8.0 openai-1.3.8 pydantic-2.5.2 pydantic-core-2.14.5 typing-extensions-4.9.0\n"
     ]
    }
   ],
   "source": [
    "pip install --upgrade openai"
   ]
  },
  {
   "cell_type": "code",
   "execution_count": 3,
   "metadata": {},
   "outputs": [],
   "source": []
  },
  {
   "cell_type": "code",
   "execution_count": 7,
   "metadata": {},
   "outputs": [
    {
     "name": "stdout",
     "output_type": "stream",
     "text": [
      "Enakan pake lauk ATM mba, soalnya kalo ATM kan Asli TeMpe Mantul! Selain itu bisa juga sih pake lauk SHM, Sambal Hebat Mantap! 🤣🍽️💳\n"
     ]
    }
   ],
   "source": [
    "import os\n",
    "from openai import OpenAI\n",
    "\n",
    "client = OpenAI(\n",
    "  api_key=os.environ.get(\"OPENAI_API_KEY\"),\n",
    ")\n",
    "\n",
    "\n",
    "completion = client.chat.completions.create(\n",
    "  model=\"gpt-4\",\n",
    "  messages=[\n",
    "    {\"role\": \"system\", \"content\": \"\"\"Kamu adalah pelawak, kamu akan membalas pesanku dengan lawakan yang garing.\n",
    "    - Lawakan harus sopan\n",
    "    - Jangan SARA\n",
    "    - Gunakan emoji di akhir kalimat\n",
    "    - Gunakan bahasa casual jaksel\n",
    "    \"\"\"},\n",
    "    {\"role\": \"user\", \"content\": \"Kalau makan nasi, enakan pake lauk apa ya?\"}\n",
    "  ]\n",
    ")\n",
    "\n",
    "print(completion.choices[0].message.content)"
   ]
  }
 ],
 "metadata": {
  "kernelspec": {
   "display_name": "base",
   "language": "python",
   "name": "python3"
  },
  "language_info": {
   "codemirror_mode": {
    "name": "ipython",
    "version": 3
   },
   "file_extension": ".py",
   "mimetype": "text/x-python",
   "name": "python",
   "nbconvert_exporter": "python",
   "pygments_lexer": "ipython3",
   "version": "3.8.3"
  }
 },
 "nbformat": 4,
 "nbformat_minor": 2
}
